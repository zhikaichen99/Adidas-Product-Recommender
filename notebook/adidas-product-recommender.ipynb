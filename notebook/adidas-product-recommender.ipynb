{
 "cells": [
  {
   "cell_type": "code",
   "execution_count": 57,
   "metadata": {},
   "outputs": [],
   "source": [
    "!pip install pandas --quiet\n",
    "!pip install langchain --quiet\n",
    "!pip install docarray --quiet\n",
    "!pip install python-dotenv==1.0.0 --quiet\n",
    "!pip install openai --quiet\n",
    "!pip install tiktoken --quiet\n",
    "!pip install beautifulsoup4 --quiet\n"
   ]
  },
  {
   "cell_type": "code",
   "execution_count": 4,
   "metadata": {},
   "outputs": [],
   "source": [
    "import pandas as pd\n",
    "import os"
   ]
  },
  {
   "cell_type": "code",
   "execution_count": 14,
   "metadata": {},
   "outputs": [],
   "source": [
    "from dotenv import load_dotenv, find_dotenv\n",
    "_ = load_dotenv(find_dotenv())"
   ]
  },
  {
   "cell_type": "code",
   "execution_count": 5,
   "metadata": {},
   "outputs": [
    {
     "data": {
      "text/html": [
       "<div>\n",
       "<style scoped>\n",
       "    .dataframe tbody tr th:only-of-type {\n",
       "        vertical-align: middle;\n",
       "    }\n",
       "\n",
       "    .dataframe tbody tr th {\n",
       "        vertical-align: top;\n",
       "    }\n",
       "\n",
       "    .dataframe thead th {\n",
       "        text-align: right;\n",
       "    }\n",
       "</style>\n",
       "<table border=\"1\" class=\"dataframe\">\n",
       "  <thead>\n",
       "    <tr style=\"text-align: right;\">\n",
       "      <th></th>\n",
       "      <th>index</th>\n",
       "      <th>url</th>\n",
       "      <th>name</th>\n",
       "      <th>sku</th>\n",
       "      <th>selling_price</th>\n",
       "      <th>original_price</th>\n",
       "      <th>currency</th>\n",
       "      <th>availability</th>\n",
       "      <th>color</th>\n",
       "      <th>category</th>\n",
       "      <th>...</th>\n",
       "      <th>source_website</th>\n",
       "      <th>breadcrumbs</th>\n",
       "      <th>description</th>\n",
       "      <th>brand</th>\n",
       "      <th>images</th>\n",
       "      <th>country</th>\n",
       "      <th>language</th>\n",
       "      <th>average_rating</th>\n",
       "      <th>reviews_count</th>\n",
       "      <th>crawled_at</th>\n",
       "    </tr>\n",
       "  </thead>\n",
       "  <tbody>\n",
       "    <tr>\n",
       "      <th>0</th>\n",
       "      <td>0</td>\n",
       "      <td>https://www.adidas.com/us/beach-shorts/FJ5089....</td>\n",
       "      <td>Beach Shorts</td>\n",
       "      <td>FJ5089</td>\n",
       "      <td>40</td>\n",
       "      <td>NaN</td>\n",
       "      <td>USD</td>\n",
       "      <td>InStock</td>\n",
       "      <td>Black</td>\n",
       "      <td>Clothing</td>\n",
       "      <td>...</td>\n",
       "      <td>https://www.adidas.com</td>\n",
       "      <td>Women/Clothing</td>\n",
       "      <td>Splashing in the surf. Making memories with yo...</td>\n",
       "      <td>adidas</td>\n",
       "      <td>https://assets.adidas.com/images/w_600,f_auto,...</td>\n",
       "      <td>USA</td>\n",
       "      <td>en</td>\n",
       "      <td>4.5</td>\n",
       "      <td>35</td>\n",
       "      <td>2021-10-23 17:50:17.331255</td>\n",
       "    </tr>\n",
       "    <tr>\n",
       "      <th>1</th>\n",
       "      <td>1</td>\n",
       "      <td>https://www.adidas.com/us/five-ten-kestrel-lac...</td>\n",
       "      <td>Five Ten Kestrel Lace Mountain Bike Shoes</td>\n",
       "      <td>BC0770</td>\n",
       "      <td>150</td>\n",
       "      <td>NaN</td>\n",
       "      <td>USD</td>\n",
       "      <td>InStock</td>\n",
       "      <td>Grey</td>\n",
       "      <td>Shoes</td>\n",
       "      <td>...</td>\n",
       "      <td>https://www.adidas.com</td>\n",
       "      <td>Women/Shoes</td>\n",
       "      <td>Lace up and get after it. The Five Ten Kestrel...</td>\n",
       "      <td>adidas</td>\n",
       "      <td>https://assets.adidas.com/images/w_600,f_auto,...</td>\n",
       "      <td>USA</td>\n",
       "      <td>en</td>\n",
       "      <td>4.8</td>\n",
       "      <td>4</td>\n",
       "      <td>2021-10-23 17:50:17.423830</td>\n",
       "    </tr>\n",
       "    <tr>\n",
       "      <th>2</th>\n",
       "      <td>2</td>\n",
       "      <td>https://www.adidas.com/us/mexico-away-jersey/G...</td>\n",
       "      <td>Mexico Away Jersey</td>\n",
       "      <td>GC7946</td>\n",
       "      <td>70</td>\n",
       "      <td>NaN</td>\n",
       "      <td>USD</td>\n",
       "      <td>InStock</td>\n",
       "      <td>White</td>\n",
       "      <td>Clothing</td>\n",
       "      <td>...</td>\n",
       "      <td>https://www.adidas.com</td>\n",
       "      <td>Kids/Clothing</td>\n",
       "      <td>Clean and crisp, this adidas Mexico Away Jerse...</td>\n",
       "      <td>adidas</td>\n",
       "      <td>https://assets.adidas.com/images/w_600,f_auto,...</td>\n",
       "      <td>USA</td>\n",
       "      <td>en</td>\n",
       "      <td>4.9</td>\n",
       "      <td>42</td>\n",
       "      <td>2021-10-23 17:50:17.530834</td>\n",
       "    </tr>\n",
       "    <tr>\n",
       "      <th>3</th>\n",
       "      <td>3</td>\n",
       "      <td>https://www.adidas.com/us/five-ten-hiangle-pro...</td>\n",
       "      <td>Five Ten Hiangle Pro Competition Climbing Shoes</td>\n",
       "      <td>FV4744</td>\n",
       "      <td>160</td>\n",
       "      <td>NaN</td>\n",
       "      <td>USD</td>\n",
       "      <td>InStock</td>\n",
       "      <td>Black</td>\n",
       "      <td>Shoes</td>\n",
       "      <td>...</td>\n",
       "      <td>https://www.adidas.com</td>\n",
       "      <td>Five Ten/Shoes</td>\n",
       "      <td>The Hiangle Pro takes on the classic shape of ...</td>\n",
       "      <td>adidas</td>\n",
       "      <td>https://assets.adidas.com/images/w_600,f_auto,...</td>\n",
       "      <td>USA</td>\n",
       "      <td>en</td>\n",
       "      <td>3.7</td>\n",
       "      <td>7</td>\n",
       "      <td>2021-10-23 17:50:17.615054</td>\n",
       "    </tr>\n",
       "    <tr>\n",
       "      <th>4</th>\n",
       "      <td>4</td>\n",
       "      <td>https://www.adidas.com/us/mesh-broken-stripe-p...</td>\n",
       "      <td>Mesh Broken-Stripe Polo Shirt</td>\n",
       "      <td>GM0239</td>\n",
       "      <td>65</td>\n",
       "      <td>NaN</td>\n",
       "      <td>USD</td>\n",
       "      <td>InStock</td>\n",
       "      <td>Blue</td>\n",
       "      <td>Clothing</td>\n",
       "      <td>...</td>\n",
       "      <td>https://www.adidas.com</td>\n",
       "      <td>Men/Clothing</td>\n",
       "      <td>Step up to the tee relaxed. This adidas golf p...</td>\n",
       "      <td>adidas</td>\n",
       "      <td>https://assets.adidas.com/images/w_600,f_auto,...</td>\n",
       "      <td>USA</td>\n",
       "      <td>en</td>\n",
       "      <td>4.7</td>\n",
       "      <td>11</td>\n",
       "      <td>2021-10-23 17:50:17.702680</td>\n",
       "    </tr>\n",
       "  </tbody>\n",
       "</table>\n",
       "<p>5 rows × 21 columns</p>\n",
       "</div>"
      ],
      "text/plain": [
       "   index                                                url  \\\n",
       "0      0  https://www.adidas.com/us/beach-shorts/FJ5089....   \n",
       "1      1  https://www.adidas.com/us/five-ten-kestrel-lac...   \n",
       "2      2  https://www.adidas.com/us/mexico-away-jersey/G...   \n",
       "3      3  https://www.adidas.com/us/five-ten-hiangle-pro...   \n",
       "4      4  https://www.adidas.com/us/mesh-broken-stripe-p...   \n",
       "\n",
       "                                              name     sku  selling_price  \\\n",
       "0                                     Beach Shorts  FJ5089             40   \n",
       "1        Five Ten Kestrel Lace Mountain Bike Shoes  BC0770            150   \n",
       "2                               Mexico Away Jersey  GC7946             70   \n",
       "3  Five Ten Hiangle Pro Competition Climbing Shoes  FV4744            160   \n",
       "4                    Mesh Broken-Stripe Polo Shirt  GM0239             65   \n",
       "\n",
       "  original_price currency availability  color  category  ...  \\\n",
       "0            NaN      USD      InStock  Black  Clothing  ...   \n",
       "1            NaN      USD      InStock   Grey     Shoes  ...   \n",
       "2            NaN      USD      InStock  White  Clothing  ...   \n",
       "3            NaN      USD      InStock  Black     Shoes  ...   \n",
       "4            NaN      USD      InStock   Blue  Clothing  ...   \n",
       "\n",
       "           source_website     breadcrumbs  \\\n",
       "0  https://www.adidas.com  Women/Clothing   \n",
       "1  https://www.adidas.com     Women/Shoes   \n",
       "2  https://www.adidas.com   Kids/Clothing   \n",
       "3  https://www.adidas.com  Five Ten/Shoes   \n",
       "4  https://www.adidas.com    Men/Clothing   \n",
       "\n",
       "                                         description   brand  \\\n",
       "0  Splashing in the surf. Making memories with yo...  adidas   \n",
       "1  Lace up and get after it. The Five Ten Kestrel...  adidas   \n",
       "2  Clean and crisp, this adidas Mexico Away Jerse...  adidas   \n",
       "3  The Hiangle Pro takes on the classic shape of ...  adidas   \n",
       "4  Step up to the tee relaxed. This adidas golf p...  adidas   \n",
       "\n",
       "                                              images country language  \\\n",
       "0  https://assets.adidas.com/images/w_600,f_auto,...     USA       en   \n",
       "1  https://assets.adidas.com/images/w_600,f_auto,...     USA       en   \n",
       "2  https://assets.adidas.com/images/w_600,f_auto,...     USA       en   \n",
       "3  https://assets.adidas.com/images/w_600,f_auto,...     USA       en   \n",
       "4  https://assets.adidas.com/images/w_600,f_auto,...     USA       en   \n",
       "\n",
       "  average_rating  reviews_count                  crawled_at  \n",
       "0            4.5             35  2021-10-23 17:50:17.331255  \n",
       "1            4.8              4  2021-10-23 17:50:17.423830  \n",
       "2            4.9             42  2021-10-23 17:50:17.530834  \n",
       "3            3.7              7  2021-10-23 17:50:17.615054  \n",
       "4            4.7             11  2021-10-23 17:50:17.702680  \n",
       "\n",
       "[5 rows x 21 columns]"
      ]
     },
     "execution_count": 5,
     "metadata": {},
     "output_type": "execute_result"
    }
   ],
   "source": [
    "file = \"../data/adidas_usa.csv\"\n",
    "df = pd.read_csv(file)\n",
    "df.head()"
   ]
  },
  {
   "cell_type": "code",
   "execution_count": 6,
   "metadata": {},
   "outputs": [
    {
     "data": {
      "text/plain": [
       "Index(['index', 'url', 'name', 'sku', 'selling_price', 'original_price',\n",
       "       'currency', 'availability', 'color', 'category', 'source',\n",
       "       'source_website', 'breadcrumbs', 'description', 'brand', 'images',\n",
       "       'country', 'language', 'average_rating', 'reviews_count', 'crawled_at'],\n",
       "      dtype='object')"
      ]
     },
     "execution_count": 6,
     "metadata": {},
     "output_type": "execute_result"
    }
   ],
   "source": [
    "df.columns"
   ]
  },
  {
   "cell_type": "code",
   "execution_count": 8,
   "metadata": {},
   "outputs": [],
   "source": [
    "from langchain.document_loaders import CSVLoader\n",
    "\n",
    "loader = CSVLoader(file_path = file)"
   ]
  },
  {
   "cell_type": "code",
   "execution_count": 19,
   "metadata": {},
   "outputs": [],
   "source": [
    "from langchain.indexes import VectorstoreIndexCreator\n",
    "from langchain.vectorstores import DocArrayInMemorySearch\n",
    "\n",
    "\n",
    "index = VectorstoreIndexCreator(\n",
    "    vectorstore_cls = DocArrayInMemorySearch\n",
    ").from_loaders([loader])"
   ]
  },
  {
   "cell_type": "code",
   "execution_count": 20,
   "metadata": {},
   "outputs": [],
   "source": [
    "docs = loader.load()"
   ]
  },
  {
   "cell_type": "code",
   "execution_count": 21,
   "metadata": {},
   "outputs": [
    {
     "data": {
      "text/plain": [
       "Document(page_content='index: 0\\nurl: https://www.adidas.com/us/beach-shorts/FJ5089.html\\nname: Beach Shorts\\nsku: FJ5089\\nselling_price: 40\\noriginal_price: \\ncurrency: USD\\navailability: InStock\\ncolor: Black\\ncategory: Clothing\\nsource: adidas United States\\nsource_website: https://www.adidas.com\\nbreadcrumbs: Women/Clothing\\ndescription: Splashing in the surf. Making memories with your friends. Beach days are the best days. These shorts are made of stretchy woven fabric. An elastic waistband that features the adidas logo brings a sporty look to your day at the beach.\\nbrand: adidas\\nimages: https://assets.adidas.com/images/w_600,f_auto,q_auto/adce4c860bd841e0a853aafd00b362d7_9366/Beach_Shorts_Black_FJ5089_21_model.jpg~https://assets.adidas.com/images/w_600,f_auto,q_auto/cad3233f6c2445e1a7fdaafd00b371ac_9366/Beach_Shorts_Black_FJ5089_22_model.jpg~https://assets.adidas.com/images/w_600,f_auto,q_auto/66223c9a595e40ef9c7caafd00b3809b_9366/Beach_Shorts_Black_FJ5089_23_hover_model.jpg~https://assets.adidas.com/images/w_600,f_auto,q_auto/85706d099dfc4092a373aafd00b38e36_9366/Beach_Shorts_Black_FJ5089_25_model.jpg~https://assets.adidas.com/images/w_600,f_auto,q_auto/139affb83f16488cb899aafd00b3e2b9_9366/Beach_Shorts_Black_FJ5089_01_laydown.jpg~https://assets.adidas.com/images/w_600,f_auto,q_auto/c235a4db563143b18db4aafd00b3ef38_9366/Beach_Shorts_Black_FJ5089_02_laydown.jpg~https://assets.adidas.com/images/w_600,f_auto,q_auto/3020a9362134409a9995aafd00b399d2_9366/Beach_Shorts_Black_FJ5089_25_outfit.jpg~https://assets.adidas.com/images/w_600,f_auto,q_auto/9a04933e87f24464b7b8aafd00b3a9aa_9366/Beach_Shorts_Black_FJ5089_41_detail.jpg~https://assets.adidas.com/images/w_600,f_auto,q_auto/2e48f8751aa54d9f9719aafd00b3b971_9366/Beach_Shorts_Black_FJ5089_42_detail.jpg~https://assets.adidas.com/images/w_600,f_auto,q_auto/5afa70cd99ce4e00abd9aafd00b3c915_9366/Beach_Shorts_Black_FJ5089_43_detail.jpg\\ncountry: USA\\nlanguage: en\\naverage_rating: 4.5\\nreviews_count: 35\\ncrawled_at: 2021-10-23 17:50:17.331255', metadata={'source': '../data/adidas_usa.csv', 'row': 0})"
      ]
     },
     "execution_count": 21,
     "metadata": {},
     "output_type": "execute_result"
    }
   ],
   "source": [
    "docs[0]"
   ]
  },
  {
   "cell_type": "code",
   "execution_count": 22,
   "metadata": {},
   "outputs": [],
   "source": [
    "from langchain.embeddings import OpenAIEmbeddings\n",
    "embeddings = OpenAIEmbeddings()"
   ]
  },
  {
   "cell_type": "code",
   "execution_count": 23,
   "metadata": {},
   "outputs": [],
   "source": [
    "vector_db = DocArrayInMemorySearch.from_documents(\n",
    "    docs,\n",
    "    embeddings\n",
    ")"
   ]
  },
  {
   "cell_type": "code",
   "execution_count": 24,
   "metadata": {},
   "outputs": [],
   "source": [
    "query = \"I am looking for a White T Shirt\""
   ]
  },
  {
   "cell_type": "code",
   "execution_count": 25,
   "metadata": {},
   "outputs": [],
   "source": [
    "docs = vector_db.similarity_search(query)"
   ]
  },
  {
   "cell_type": "code",
   "execution_count": 26,
   "metadata": {},
   "outputs": [
    {
     "data": {
      "text/plain": [
       "4"
      ]
     },
     "execution_count": 26,
     "metadata": {},
     "output_type": "execute_result"
    }
   ],
   "source": [
    "len(docs)"
   ]
  },
  {
   "cell_type": "code",
   "execution_count": 27,
   "metadata": {},
   "outputs": [
    {
     "data": {
      "text/plain": [
       "Document(page_content=\"index: 819\\nurl: https://www.adidas.com/us/short-sleeve-graphic-tee/GV5159.html\\nname: Short Sleeve Graphic Tee\\nsku: GV5159\\nselling_price: 24\\noriginal_price: $30\\ncurrency: USD\\navailability: InStock\\ncolor: White\\ncategory: Clothing\\nsource: adidas United States\\nsource_website: https://www.adidas.com\\nbreadcrumbs: Men/Clothing\\ndescription: Honor your hard work. Reward your efforts. OR just start with the reward and let it fuel everything else. When you slip on this t-shirt in the morning, that's exactly what you're doing. Cotton jersey feels soft against the skin. The eye-catching graphic on the front leaves no doubt that you're part of the adidas team. \\r\\n\\r\\nBy buying cotton products from us, you're supporting more sustainable cotton farming.\\nbrand: adidas\\nimages: https://assets.adidas.com/images/w_600,f_auto,q_auto/d020ed5703a14252ae2ead1a01062e80_9366/Short_Sleeve_Graphic_Tee_White_GV5159_21_model.jpg~https://assets.adidas.com/images/w_600,f_auto,q_auto/ba1c26ed570c420486adad1a010633cf_9366/Short_Sleeve_Graphic_Tee_White_GV5159_23_hover_model.jpg~https://assets.adidas.com/images/w_600,f_auto,q_auto/b44dbab4a9b64b60b973ad1a01063c65_9366/Short_Sleeve_Graphic_Tee_White_GV5159_25_model.jpg~https://assets.adidas.com/images/w_600,f_auto,q_auto/435ebc4133ec458e85b6ad3500e3a5ec_9366/Short_Sleeve_Graphic_Tee_White_GV5159_01_laydown.jpg~https://assets.adidas.com/images/w_600,f_auto,q_auto/eb902371c0674afdb58ead1a010645ab_9366/Short_Sleeve_Graphic_Tee_White_GV5159_41_detail.jpg~https://assets.adidas.com/images/w_600,f_auto,q_auto/ede1b51c839a4ea194d8ad1a01064dfa_9366/Short_Sleeve_Graphic_Tee_White_GV5159_42_detail.jpg\\ncountry: USA\\nlanguage: en\\naverage_rating: 4.9\\nreviews_count: 7\\ncrawled_at: 2021-10-23 17:52:28.361541\", metadata={'source': '../data/adidas_usa.csv', 'row': 819})"
      ]
     },
     "execution_count": 27,
     "metadata": {},
     "output_type": "execute_result"
    }
   ],
   "source": [
    "docs[0]"
   ]
  },
  {
   "cell_type": "code",
   "execution_count": 28,
   "metadata": {},
   "outputs": [],
   "source": [
    "from langchain.chains import RetrievalQA\n",
    "from langchain.chat_models import ChatOpenAI\n",
    "\n",
    "llm = ChatOpenAI(temperature = 0.0)\n",
    "\n",
    "qa_stuff = RetrievalQA.from_chain_type(\n",
    "    llm = llm,\n",
    "    chain_type = \"stuff\",\n",
    "    retriever = vector_db.as_retriever(),\n",
    "    verbose = True\n",
    ")"
   ]
  },
  {
   "cell_type": "code",
   "execution_count": 32,
   "metadata": {},
   "outputs": [
    {
     "name": "stdout",
     "output_type": "stream",
     "text": [
      "\n",
      "\n",
      "\u001b[1m> Entering new RetrievalQA chain...\u001b[0m\n",
      "\n",
      "\u001b[1m> Finished chain.\u001b[0m\n"
     ]
    }
   ],
   "source": [
    "query = \"I am looking for a White T Shirt\"\n",
    "\n",
    "response = qa_stuff.run(query)"
   ]
  },
  {
   "cell_type": "code",
   "execution_count": 33,
   "metadata": {},
   "outputs": [
    {
     "data": {
      "text/plain": [
       "'Sure! I can help you with that. Here are some white t-shirts available:\\n\\n1. Short Sleeve Graphic Tee\\n   - Brand: adidas\\n   - Price: $24\\n   - Description: Honor your hard work. Reward your efforts. OR just start with the reward and let it fuel everything else. When you slip on this t-shirt in the morning, that\\'s exactly what you\\'re doing. Cotton jersey feels soft against the skin. The eye-catching graphic on the front leaves no doubt that you\\'re part of the adidas team.\\n   - [View Product](https://www.adidas.com/us/short-sleeve-graphic-tee/GV5159.html)\\n\\n2. Graphic Tee\\n   - Brand: adidas\\n   - Price: $24\\n   - Description: You have enough to think about. Cross \"decide what to wear\" off the list. Grab this adidas t-shirt, and you\\'re good to go. Level up your game when you\\'re off the clock with a fresh take on a classic logo. Score bonus points with a silky soft feel. End of story.\\n   - [View Product](https://www.adidas.com/us/graphic-tee/GU3637.html)\\n\\n3. Long Sleeve Graphic Tee\\n   - Brand: adidas\\n   - Price: $28\\n   - Description: Need another reason to slip into the soft fabric, casual vibes and easy-to-move-in comfort of this adidas t-shirt? How about knowing that every time you do, you\\'re part of a movement towards helping end plastic waste? Head out and show gratitude to the oceans with every step you take. Making a statement has never felt so good.\\n   - [View Product](https://www.adidas.com/us/long-sleeve-graphic-tee/GU1468.html)\\n\\n4. Camo Print Graphic Tee (Kids)\\n   - Brand: adidas\\n   - Price: $19\\n   - Description: They\\'ve never been one to blend in. Your little one is all energy, all the time. This kids\\' adidas tee pairs camo print with pops of bright color to keep their spirits high. Soft cotton fabric means they stay comfy no matter where their adventures take them.\\n   - [View Product](https://www.adidas.com/us/camo-print-graphic-tee/H20304.html)\\n\\nPlease let me know if you need more information or if there\\'s anything else I can assist you with!'"
      ]
     },
     "execution_count": 33,
     "metadata": {},
     "output_type": "execute_result"
    }
   ],
   "source": [
    "response"
   ]
  },
  {
   "cell_type": "code",
   "execution_count": 34,
   "metadata": {},
   "outputs": [
    {
     "data": {
      "text/markdown": [
       "Sure! I can help you with that. Here are some white t-shirts available:\n",
       "\n",
       "1. Short Sleeve Graphic Tee\n",
       "   - Brand: adidas\n",
       "   - Price: $24\n",
       "   - Description: Honor your hard work. Reward your efforts. OR just start with the reward and let it fuel everything else. When you slip on this t-shirt in the morning, that's exactly what you're doing. Cotton jersey feels soft against the skin. The eye-catching graphic on the front leaves no doubt that you're part of the adidas team.\n",
       "   - [View Product](https://www.adidas.com/us/short-sleeve-graphic-tee/GV5159.html)\n",
       "\n",
       "2. Graphic Tee\n",
       "   - Brand: adidas\n",
       "   - Price: $24\n",
       "   - Description: You have enough to think about. Cross \"decide what to wear\" off the list. Grab this adidas t-shirt, and you're good to go. Level up your game when you're off the clock with a fresh take on a classic logo. Score bonus points with a silky soft feel. End of story.\n",
       "   - [View Product](https://www.adidas.com/us/graphic-tee/GU3637.html)\n",
       "\n",
       "3. Long Sleeve Graphic Tee\n",
       "   - Brand: adidas\n",
       "   - Price: $28\n",
       "   - Description: Need another reason to slip into the soft fabric, casual vibes and easy-to-move-in comfort of this adidas t-shirt? How about knowing that every time you do, you're part of a movement towards helping end plastic waste? Head out and show gratitude to the oceans with every step you take. Making a statement has never felt so good.\n",
       "   - [View Product](https://www.adidas.com/us/long-sleeve-graphic-tee/GU1468.html)\n",
       "\n",
       "4. Camo Print Graphic Tee (Kids)\n",
       "   - Brand: adidas\n",
       "   - Price: $19\n",
       "   - Description: They've never been one to blend in. Your little one is all energy, all the time. This kids' adidas tee pairs camo print with pops of bright color to keep their spirits high. Soft cotton fabric means they stay comfy no matter where their adventures take them.\n",
       "   - [View Product](https://www.adidas.com/us/camo-print-graphic-tee/H20304.html)\n",
       "\n",
       "Please let me know if you need more information or if there's anything else I can assist you with!"
      ],
      "text/plain": [
       "<IPython.core.display.Markdown object>"
      ]
     },
     "metadata": {},
     "output_type": "display_data"
    }
   ],
   "source": [
    "from IPython.display import display, Markdown\n",
    "\n",
    "display(Markdown(response))"
   ]
  },
  {
   "cell_type": "code",
   "execution_count": 35,
   "metadata": {},
   "outputs": [],
   "source": [
    "file = \"../data/adidas_usa.csv\"\n",
    "df = pd.read_csv(file)"
   ]
  },
  {
   "cell_type": "code",
   "execution_count": 64,
   "metadata": {},
   "outputs": [],
   "source": [
    "image_urls = df[\"images\"].str.split(\"~\").apply(lambda x: [img for img in x if img.endswith(\"laydown.jpg\")]).to_list()\n",
    "image_dict = {df['name'][i]: image_urls[i] for i in range(len(df))}\n"
   ]
  },
  {
   "cell_type": "code",
   "execution_count": 41,
   "metadata": {},
   "outputs": [
    {
     "name": "stdout",
     "output_type": "stream",
     "text": [
      "\n",
      "\n",
      "\u001b[1m> Entering new RetrievalQA chain...\u001b[0m\n",
      "\n",
      "\u001b[1m> Finished chain.\u001b[0m\n"
     ]
    }
   ],
   "source": [
    "from langchain.document_loaders import CSVLoader\n",
    "from langchain.indexes import VectorstoreIndexCreator\n",
    "from langchain.vectorstores import DocArrayInMemorySearch\n",
    "from langchain.embeddings import OpenAIEmbeddings\n",
    "from langchain.chains import RetrievalQA\n",
    "from langchain.chat_models import ChatOpenAI\n",
    "\n",
    "loader = CSVLoader(file_path = file)\n",
    "\n",
    "index = VectorstoreIndexCreator(\n",
    "    vectorstore_cls = DocArrayInMemorySearch\n",
    ").from_loaders([loader])\n",
    "\n",
    "docs = loader.load()\n",
    "\n",
    "from langchain.embeddings import OpenAIEmbeddings\n",
    "embeddings = OpenAIEmbeddings()\n",
    "\n",
    "vector_db = DocArrayInMemorySearch.from_documents(\n",
    "    docs,\n",
    "    embeddings\n",
    ")\n",
    "\n",
    "llm = ChatOpenAI(temperature = 0.0)\n",
    "\n",
    "qa_stuff = RetrievalQA.from_chain_type(\n",
    "    llm = llm,\n",
    "    chain_type = \"stuff\",\n",
    "    retriever = vector_db.as_retriever(),\n",
    "    verbose = True,\n",
    ")\n",
    "\n",
    "\n",
    "query = \"I am looking for a White T Shirt\"\n",
    "response = qa_stuff.run(query)"
   ]
  },
  {
   "cell_type": "code",
   "execution_count": 48,
   "metadata": {},
   "outputs": [
    {
     "data": {
      "text/plain": [
       "'Sure! I can help you with that. Here are some white t-shirts available:\\n\\n1. Short Sleeve Graphic Tee\\n   - Brand: adidas\\n   - Price: $24\\n   - Description: Honor your hard work. Reward your efforts. OR just start with the reward and let it fuel everything else. When you slip on this t-shirt in the morning, that\\'s exactly what you\\'re doing. Cotton jersey feels soft against the skin. The eye-catching graphic on the front leaves no doubt that you\\'re part of the adidas team.\\n   - [View Product](https://www.adidas.com/us/short-sleeve-graphic-tee/GV5159.html)\\n\\n2. Graphic Tee\\n   - Brand: adidas\\n   - Price: $24\\n   - Description: You have enough to think about. Cross \"decide what to wear\" off the list. Grab this adidas t-shirt, and you\\'re good to go. Level up your game when you\\'re off the clock with a fresh take on a classic logo. Score bonus points with a silky soft feel. End of story.\\n   - [View Product](https://www.adidas.com/us/graphic-tee/GU3637.html)\\n\\n3. Long Sleeve Graphic Tee\\n   - Brand: adidas\\n   - Price: $28\\n   - Description: Need another reason to slip into the soft fabric, casual vibes and easy-to-move-in comfort of this adidas t-shirt? How about knowing that every time you do, you\\'re part of a movement towards helping end plastic waste? Head out and show gratitude to the oceans with every step you take. Making a statement has never felt so good.\\n   - [View Product](https://www.adidas.com/us/long-sleeve-graphic-tee/GU1468.html)\\n\\n4. Camo Print Graphic Tee (Kids)\\n   - Brand: adidas\\n   - Price: $19\\n   - Description: They\\'ve never been one to blend in. Your little one is all energy, all the time. This kids\\' adidas tee pairs camo print with pops of bright color to keep their spirits high. Soft cotton fabric means they stay comfy no matter where their adventures take them.\\n   - [View Product](https://www.adidas.com/us/camo-print-graphic-tee/H20304.html)\\n\\nPlease let me know if you need more information or if there\\'s anything else I can assist you with!'"
      ]
     },
     "execution_count": 48,
     "metadata": {},
     "output_type": "execute_result"
    }
   ],
   "source": [
    "response"
   ]
  },
  {
   "cell_type": "code",
   "execution_count": 47,
   "metadata": {},
   "outputs": [
    {
     "data": {
      "text/markdown": [
       "Sure! I can help you with that. Here are some white t-shirts available:\n",
       "\n",
       "1. Short Sleeve Graphic Tee\n",
       "   - Brand: adidas\n",
       "   - Price: $24\n",
       "   - Description: Honor your hard work. Reward your efforts. OR just start with the reward and let it fuel everything else. When you slip on this t-shirt in the morning, that's exactly what you're doing. Cotton jersey feels soft against the skin. The eye-catching graphic on the front leaves no doubt that you're part of the adidas team.\n",
       "   - [View Product](https://www.adidas.com/us/short-sleeve-graphic-tee/GV5159.html)\n",
       "\n",
       "2. Graphic Tee\n",
       "   - Brand: adidas\n",
       "   - Price: $24\n",
       "   - Description: You have enough to think about. Cross \"decide what to wear\" off the list. Grab this adidas t-shirt, and you're good to go. Level up your game when you're off the clock with a fresh take on a classic logo. Score bonus points with a silky soft feel. End of story.\n",
       "   - [View Product](https://www.adidas.com/us/graphic-tee/GU3637.html)\n",
       "\n",
       "3. Long Sleeve Graphic Tee\n",
       "   - Brand: adidas\n",
       "   - Price: $28\n",
       "   - Description: Need another reason to slip into the soft fabric, casual vibes and easy-to-move-in comfort of this adidas t-shirt? How about knowing that every time you do, you're part of a movement towards helping end plastic waste? Head out and show gratitude to the oceans with every step you take. Making a statement has never felt so good.\n",
       "   - [View Product](https://www.adidas.com/us/long-sleeve-graphic-tee/GU1468.html)\n",
       "\n",
       "4. Camo Print Graphic Tee (Kids)\n",
       "   - Brand: adidas\n",
       "   - Price: $19\n",
       "   - Description: They've never been one to blend in. Your little one is all energy, all the time. This kids' adidas tee pairs camo print with pops of bright color to keep their spirits high. Soft cotton fabric means they stay comfy no matter where their adventures take them.\n",
       "   - [View Product](https://www.adidas.com/us/camo-print-graphic-tee/H20304.html)\n",
       "\n",
       "Please let me know if you need more information or if there's anything else I can assist you with!"
      ],
      "text/plain": [
       "<IPython.core.display.Markdown object>"
      ]
     },
     "metadata": {},
     "output_type": "display_data"
    }
   ],
   "source": [
    "display(Markdown(response))"
   ]
  },
  {
   "cell_type": "code",
   "execution_count": 54,
   "metadata": {},
   "outputs": [],
   "source": [
    "import re\n",
    "\n",
    "product_names = re.findall(r'\\d+\\. ([^\\n]+)', response)\n",
    "product_prices = re.findall(r'Price: \\$([\\d.]+)', response)\n",
    "product_descriptions = re.findall(r'Description: ([^\\n]+)', response)\n",
    "product_urls = re.findall(r'\\[View Product\\]\\(([^)]+)\\)', response)"
   ]
  },
  {
   "cell_type": "code",
   "execution_count": 55,
   "metadata": {},
   "outputs": [
    {
     "data": {
      "text/plain": [
       "['https://www.adidas.com/us/short-sleeve-graphic-tee/GV5159.html',\n",
       " 'https://www.adidas.com/us/graphic-tee/GU3637.html',\n",
       " 'https://www.adidas.com/us/long-sleeve-graphic-tee/GU1468.html',\n",
       " 'https://www.adidas.com/us/camo-print-graphic-tee/H20304.html']"
      ]
     },
     "execution_count": 55,
     "metadata": {},
     "output_type": "execute_result"
    }
   ],
   "source": [
    "product_urls"
   ]
  },
  {
   "cell_type": "code",
   "execution_count": 65,
   "metadata": {},
   "outputs": [
    {
     "data": {
      "text/plain": [
       "[['https://assets.adidas.com/images/w_600,f_auto,q_auto/435ebc4133ec458e85b6ad3500e3a5ec_9366/Short_Sleeve_Graphic_Tee_White_GV5159_01_laydown.jpg'],\n",
       " ['https://assets.adidas.com/images/w_600,f_auto,q_auto/986bd0fce531401c9c9cad12010a8df6_9366/Graphic_Tee_White_GU3637_01_laydown.jpg'],\n",
       " ['https://assets.adidas.com/images/w_600,f_auto,q_auto/b3abdc62d2594c2b97a5ad1200d1b8a4_9366/Long_Sleeve_Graphic_Tee_White_GU1468_01_laydown.jpg'],\n",
       " None]"
      ]
     },
     "execution_count": 65,
     "metadata": {},
     "output_type": "execute_result"
    }
   ],
   "source": [
    "product_images = []\n",
    "\n",
    "for product_name in product_names:\n",
    "    product_images.append(image_dict.get(product_name))\n",
    "\n",
    "product_images"
   ]
  },
  {
   "cell_type": "code",
   "execution_count": null,
   "metadata": {},
   "outputs": [],
   "source": []
  }
 ],
 "metadata": {
  "kernelspec": {
   "display_name": "adidasrecommender",
   "language": "python",
   "name": "python3"
  },
  "language_info": {
   "codemirror_mode": {
    "name": "ipython",
    "version": 3
   },
   "file_extension": ".py",
   "mimetype": "text/x-python",
   "name": "python",
   "nbconvert_exporter": "python",
   "pygments_lexer": "ipython3",
   "version": "3.10.12"
  },
  "orig_nbformat": 4
 },
 "nbformat": 4,
 "nbformat_minor": 2
}
